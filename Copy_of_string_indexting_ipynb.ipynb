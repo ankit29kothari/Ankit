{
  "nbformat": 4,
  "nbformat_minor": 0,
  "metadata": {
    "colab": {
      "name": "Copy of string indexting ipynb",
      "provenance": [],
      "collapsed_sections": [],
      "authorship_tag": "ABX9TyNQecffqhLlzwUgSyobn5vE",
      "include_colab_link": true
    },
    "kernelspec": {
      "name": "python3",
      "display_name": "Python 3"
    }
  },
  "cells": [
    {
      "cell_type": "markdown",
      "metadata": {
        "id": "view-in-github",
        "colab_type": "text"
      },
      "source": [
        "<a href=\"https://colab.research.google.com/github/ankit29kothari/Ankit/blob/master/Copy_of_string_indexting_ipynb.ipynb\" target=\"_parent\"><img src=\"https://colab.research.google.com/assets/colab-badge.svg\" alt=\"Open In Colab\"/></a>"
      ]
    },
    {
      "cell_type": "code",
      "metadata": {
        "id": "lg_T3urMaha5",
        "colab_type": "code",
        "outputId": "755d75b3-fcc4-45ea-8fa8-69261e68350b",
        "colab": {
          "base_uri": "https://localhost:8080/",
          "height": 34
        }
      },
      "source": [
        "list1=['1','2','3','4','5']\n",
        "a=('').join(list1)\n",
        "print(a)\n",
        "print('Ankit')"
      ],
      "execution_count": 0,
      "outputs": [
        {
          "output_type": "stream",
          "text": [
            "12345\n"
          ],
          "name": "stdout"
        }
      ]
    },
    {
      "cell_type": "markdown",
      "metadata": {
        "id": "D9dINJ3kLPo5",
        "colab_type": "text"
      },
      "source": [
        "new2"
      ]
    },
    {
      "cell_type": "code",
      "metadata": {
        "id": "mhCRTkV-J23v",
        "colab_type": "code",
        "outputId": "2b031f96-0331-4a30-c112-dddd77735d6a",
        "colab": {
          "base_uri": "https://localhost:8080/",
          "height": 34
        }
      },
      "source": [
        "list1=['1','2','3','4','5']\n",
        "a=('').join(list1)\n",
        "print(a)"
      ],
      "execution_count": 0,
      "outputs": [
        {
          "output_type": "stream",
          "text": [
            "12345\n"
          ],
          "name": "stdout"
        }
      ]
    },
    {
      "cell_type": "markdown",
      "metadata": {
        "id": "4jJcN0J5LOjK",
        "colab_type": "text"
      },
      "source": [
        ""
      ]
    },
    {
      "cell_type": "markdown",
      "metadata": {
        "id": "DJ-et0VWGz0J",
        "colab_type": "text"
      },
      "source": [
        "**String Slicing**"
      ]
    },
    {
      "cell_type": "markdown",
      "metadata": {
        "id": "_kZ_SoCRG5Us",
        "colab_type": "text"
      },
      "source": [
        "\n",
        "\n",
        "---\n",
        "\n"
      ]
    }
  ]
}