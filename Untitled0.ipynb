{
  "nbformat": 4,
  "nbformat_minor": 0,
  "metadata": {
    "colab": {
      "name": "Untitled0.ipynb",
      "provenance": [],
      "collapsed_sections": [],
      "toc_visible": true,
      "authorship_tag": "ABX9TyMPwvEsuNhP3PyL4Z6YiLuB",
      "include_colab_link": true
    },
    "kernelspec": {
      "name": "python3",
      "display_name": "Python 3"
    }
  },
  "cells": [
    {
      "cell_type": "markdown",
      "metadata": {
        "id": "view-in-github",
        "colab_type": "text"
      },
      "source": [
        "<a href=\"https://colab.research.google.com/github/ankit29kothari/Ankit/blob/master/Untitled0.ipynb\" target=\"_parent\"><img src=\"https://colab.research.google.com/assets/colab-badge.svg\" alt=\"Open In Colab\"/></a>"
      ]
    },
    {
      "cell_type": "code",
      "metadata": {
        "id": "lg_T3urMaha5",
        "colab_type": "code",
        "outputId": "17cefaff-317c-4c85-89c3-c734ad317dcd",
        "colab": {
          "base_uri": "https://localhost:8080/",
          "height": 34
        }
      },
      "source": [
        "list1=['1','2','3','4','5']\n",
        "a=('').join(list1)\n",
        "print(a)"
      ],
      "execution_count": 1,
      "outputs": [
        {
          "output_type": "stream",
          "text": [
            "12345\n"
          ],
          "name": "stdout"
        }
      ]
    },
    {
      "cell_type": "markdown",
      "metadata": {
        "id": "5Vx_L1xyGEON",
        "colab_type": "text"
      },
      "source": [
        "String Substes"
      ]
    },
    {
      "cell_type": "code",
      "metadata": {
        "id": "AZA4mDzIFsCF",
        "colab_type": "code",
        "colab": {
          "base_uri": "https://localhost:8080/",
          "height": 34
        },
        "outputId": "ed859ea2-411e-4b39-92f7-bca10e2c8ea4"
      },
      "source": [
        "list1=['1','2','3','4','5']\n",
        "a=('').join(list1)\n",
        "print(a)"
      ],
      "execution_count": 2,
      "outputs": [
        {
          "output_type": "stream",
          "text": [
            "12345\n"
          ],
          "name": "stdout"
        }
      ]
    },
    {
      "cell_type": "code",
      "metadata": {
        "id": "pB7I39GaGBvk",
        "colab_type": "code",
        "colab": {
          "base_uri": "https://localhost:8080/",
          "height": 34
        },
        "outputId": "5dbbc3d7-759d-42ca-ebe9-64c7a068b623"
      },
      "source": [
        "list1=['1','2','3','4','5']\n",
        "a=('').join(list1)\n",
        "print(a)"
      ],
      "execution_count": 3,
      "outputs": [
        {
          "output_type": "stream",
          "text": [
            "12345\n"
          ],
          "name": "stdout"
        }
      ]
    },
    {
      "cell_type": "code",
      "metadata": {
        "id": "uSkzuCL4GCbY",
        "colab_type": "code",
        "colab": {
          "base_uri": "https://localhost:8080/",
          "height": 34
        },
        "outputId": "8012a36c-da43-4c0a-9efe-fdf869874f60"
      },
      "source": [
        "list1=['1','2','3','4','5']\n",
        "a=('').join(list1)\n",
        "print(a)"
      ],
      "execution_count": 4,
      "outputs": [
        {
          "output_type": "stream",
          "text": [
            "12345\n"
          ],
          "name": "stdout"
        }
      ]
    },
    {
      "cell_type": "markdown",
      "metadata": {
        "id": "xf34ox3eGDUt",
        "colab_type": "text"
      },
      "source": [
        ""
      ]
    },
    {
      "cell_type": "markdown",
      "metadata": {
        "id": "4sSm31TxFsrI",
        "colab_type": "text"
      },
      "source": [
        "String **Slicing** **[bold text](https://)**www.google.in\n",
        "\n",
        "---\n",
        "\n",
        "# ![alt text](https://) ![alt text](https://www.google.in)"
      ]
    },
    {
      "cell_type": "markdown",
      "metadata": {
        "id": "XRZl1GDdcCe5",
        "colab_type": "text"
      },
      "source": [
        "String slicing\n"
      ]
    },
    {
      "cell_type": "code",
      "metadata": {
        "id": "4MgxC99xc83Q",
        "colab_type": "code",
        "outputId": "d0fab276-9263-4ba8-8757-f8505d305066",
        "colab": {
          "base_uri": "https://localhost:8080/",
          "height": 51
        }
      },
      "source": [
        "list1=['a','b','c','d']\n",
        "print(list1[1:3])\n",
        "\n",
        "print(list1[-1])\n"
      ],
      "execution_count": 5,
      "outputs": [
        {
          "output_type": "stream",
          "text": [
            "['b', 'c']\n",
            "d\n"
          ],
          "name": "stdout"
        }
      ]
    },
    {
      "cell_type": "code",
      "metadata": {
        "id": "QSqXwADndh-f",
        "colab_type": "code",
        "outputId": "37ec2948-f7e6-469a-bfea-a33d1b4083d8",
        "colab": {
          "base_uri": "https://localhost:8080/",
          "height": 34
        }
      },
      "source": [
        "a='ankit'\n",
        "print(a.upper())\n",
        "\n"
      ],
      "execution_count": 6,
      "outputs": [
        {
          "output_type": "stream",
          "text": [
            "ANKIT\n"
          ],
          "name": "stdout"
        }
      ]
    }
  ]
}