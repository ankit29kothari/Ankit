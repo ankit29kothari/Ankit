{
  "nbformat": 4,
  "nbformat_minor": 0,
  "metadata": {
    "colab": {
      "name": "Untitled0.ipynb",
      "provenance": [],
      "collapsed_sections": [],
      "authorship_tag": "ABX9TyMvVOxOEh+0BMI0LqyOn6Bp",
      "include_colab_link": true
    },
    "kernelspec": {
      "name": "python3",
      "display_name": "Python 3"
    }
  },
  "cells": [
    {
      "cell_type": "markdown",
      "metadata": {
        "id": "view-in-github",
        "colab_type": "text"
      },
      "source": [
        "<a href=\"https://colab.research.google.com/github/ankit29kothari/Ankit/blob/master/selenium.ipynb\" target=\"_parent\"><img src=\"https://colab.research.google.com/assets/colab-badge.svg\" alt=\"Open In Colab\"/></a>"
      ]
    },
    {
      "cell_type": "code",
      "metadata": {
        "id": "lg_T3urMaha5",
        "colab_type": "code",
        "outputId": "bb8a873c-dbc3-4609-d4e4-47f541b1c40c",
        "colab": {
          "base_uri": "https://localhost:8080/",
          "height": 34
        }
      },
      "source": [
        "WebDriverWait(driver, 50).until(EC.presence_of_element_located((By.XPATH, id)))\n",
        "WebDriverWait(driver, 50).until(EC.presence_of_element_located((By.ID, 'menu_hlnk_I1_1_L2')))\n",
        "driver.find_element_by_id('menu_hlnk_I1_1_L2')\n",
        "driver.find_element_by_xpath('//a[img/@src=\"/images/picto-bullet.png\"]')\n",
        "\n",
        "\n"
      ],
      "execution_count": 0,
      "outputs": [
        {
          "output_type": "stream",
          "text": [
            "12345\n"
          ],
          "name": "stdout"
        }
      ]
    },
    {
      "cell_type": "markdown",
      "metadata": {
        "id": "XRZl1GDdcCe5",
        "colab_type": "text"
      },
      "source": [
        "String slicing\n"
      ]
    },
    {
      "cell_type": "code",
      "metadata": {
        "id": "4MgxC99xc83Q",
        "colab_type": "code",
        "outputId": "2cb9b990-7b02-4138-cf48-c3b2b21b7df6",
        "colab": {
          "base_uri": "https://localhost:8080/",
          "height": 51
        }
      },
      "source": [
        "driver.find_element_by_link_text(\"Confirm\")\n",
        "WebDriverWait(driver, 50).until(EC.element_to_be_clickable((By.XPATH, '//*[@id=\"BtnEnvoiOceane\"]'))).click()\n"
      ],
      "execution_count": 0,
      "outputs": [
        {
          "output_type": "stream",
          "text": [
            "['b', 'c']\n",
            "d\n"
          ],
          "name": "stdout"
        }
      ]
    },
    {
      "cell_type": "code",
      "metadata": {
        "id": "02EBPgw1Refw",
        "colab_type": "code",
        "colab": {}
      },
      "source": [
        "driver.get(\"http://sav-oceane.sso.infra.ftgroup/binOceane/Home/OpenStartPage\")\n",
        "driver.execute_script(\"window.open('https://iai-rqa.sso.infra.ftgroup/perl/wasac-new/loginsso.cgi?page=IAI_EAI_templates_oceane.cgi&service=IAI&ticketid=\"+excel_ticket+\"&templateid=3008&type=1&organisation=14&nom_entite=CSO&eds_bandeau=ATQC19&cmd=load');\")\n",
        "\t\t"
      ],
      "execution_count": 0,
      "outputs": []
    },
    {
      "cell_type": "code",
      "metadata": {
        "id": "QSqXwADndh-f",
        "colab_type": "code",
        "outputId": "60d783d5-0cad-49a8-e099-259c45654c43",
        "colab": {
          "base_uri": "https://localhost:8080/",
          "height": 34
        }
      },
      "source": [
        "a=element = WebDriverWait(driver, 50).until(EC.presence_of_element_located((By.XPATH, '//iframe[@name=\"OCEANE\"]')))\n",
        "driver.switch_to.frame(element)\n",
        "\n"
      ],
      "execution_count": 0,
      "outputs": [
        {
          "output_type": "stream",
          "text": [
            "ANKIT\n"
          ],
          "name": "stdout"
        }
      ]
    },
    {
      "cell_type": "code",
      "metadata": {
        "id": "_nlc9ZuCSLep",
        "colab_type": "code",
        "colab": {}
      },
      "source": [
        "handles = driver.window_handles\n",
        "\t\t\tsize = len(handles)\n",
        "\t\t\tprint('size',size)\n",
        "\t\t\tparent_handle = driver.current_window_handle\n",
        "      driver.switch_to.window(handles[s])\n",
        "      driver.title"
      ],
      "execution_count": 0,
      "outputs": []
    }
  ]
}